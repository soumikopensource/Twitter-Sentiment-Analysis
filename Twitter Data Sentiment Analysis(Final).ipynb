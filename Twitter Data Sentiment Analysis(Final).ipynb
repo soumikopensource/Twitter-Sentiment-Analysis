{
 "cells": [
  {
   "cell_type": "code",
   "execution_count": null,
   "id": "e4cf5cac",
   "metadata": {},
   "outputs": [],
   "source": []
  },
  {
   "cell_type": "code",
   "execution_count": 1,
   "id": "d860079b",
   "metadata": {},
   "outputs": [],
   "source": [
    "import numpy as np\n",
    "import pandas as pd\n",
    "import matplotlib.pyplot as plt\n",
    "import seaborn as sns\n",
    "import tqdm\n",
    "import nltk\n",
    "import re\n",
    "import vaderSentiment\n",
    "from langdetect import detect\n",
    "import pycountry"
   ]
  },
  {
   "cell_type": "code",
   "execution_count": 2,
   "id": "2ce1fc10",
   "metadata": {},
   "outputs": [],
   "source": [
    "df = pd.read_csv('final_twitter_dataset.csv')"
   ]
  },
  {
   "cell_type": "code",
   "execution_count": 3,
   "id": "3034ec18",
   "metadata": {},
   "outputs": [
    {
     "data": {
      "text/html": [
       "<div>\n",
       "<style scoped>\n",
       "    .dataframe tbody tr th:only-of-type {\n",
       "        vertical-align: middle;\n",
       "    }\n",
       "\n",
       "    .dataframe tbody tr th {\n",
       "        vertical-align: top;\n",
       "    }\n",
       "\n",
       "    .dataframe thead th {\n",
       "        text-align: right;\n",
       "    }\n",
       "</style>\n",
       "<table border=\"1\" class=\"dataframe\">\n",
       "  <thead>\n",
       "    <tr style=\"text-align: right;\">\n",
       "      <th></th>\n",
       "      <th>Unnamed: 0</th>\n",
       "      <th>url</th>\n",
       "      <th>date</th>\n",
       "      <th>content</th>\n",
       "      <th>renderedContent</th>\n",
       "      <th>id</th>\n",
       "      <th>user</th>\n",
       "      <th>replyCount</th>\n",
       "      <th>retweetCount</th>\n",
       "      <th>likeCount</th>\n",
       "      <th>...</th>\n",
       "      <th>quotedTweet</th>\n",
       "      <th>inReplyToTweetId</th>\n",
       "      <th>inReplyToUser</th>\n",
       "      <th>mentionedUsers</th>\n",
       "      <th>coordinates</th>\n",
       "      <th>place</th>\n",
       "      <th>hashtags</th>\n",
       "      <th>cashtags</th>\n",
       "      <th>content_trans</th>\n",
       "      <th>translated_english_content</th>\n",
       "    </tr>\n",
       "  </thead>\n",
       "  <tbody>\n",
       "    <tr>\n",
       "      <th>0</th>\n",
       "      <td>0</td>\n",
       "      <td>https://twitter.com/Teddymonster161/status/155...</td>\n",
       "      <td>2022-07-29 21:45:54+00:00</td>\n",
       "      <td>@kuechentyrann Deine Eier haben guten nutriscore.</td>\n",
       "      <td>@kuechentyrann Deine Eier haben guten nutriscore.</td>\n",
       "      <td>1553134748435881984</td>\n",
       "      <td>{'username': 'Teddymonster161', 'id': 13196167...</td>\n",
       "      <td>1</td>\n",
       "      <td>0</td>\n",
       "      <td>1</td>\n",
       "      <td>...</td>\n",
       "      <td>NaN</td>\n",
       "      <td>1.553133e+18</td>\n",
       "      <td>{'username': 'kuechentyrann', 'id': 1490347823...</td>\n",
       "      <td>[{'username': 'kuechentyrann', 'id': 149034782...</td>\n",
       "      <td>NaN</td>\n",
       "      <td>NaN</td>\n",
       "      <td>NaN</td>\n",
       "      <td>NaN</td>\n",
       "      <td>@kuechentyrann Deine Eier haben guten nutriscore.</td>\n",
       "      <td>@Kuechentyrann Your eggs have good nutriscore.</td>\n",
       "    </tr>\n",
       "    <tr>\n",
       "      <th>1</th>\n",
       "      <td>1</td>\n",
       "      <td>https://twitter.com/kuechentyrann/status/15531...</td>\n",
       "      <td>2022-07-29 21:40:37+00:00</td>\n",
       "      <td>@Teddymonster10 Die haben aber einen guten Nut...</td>\n",
       "      <td>@Teddymonster10 Die haben aber einen guten Nut...</td>\n",
       "      <td>1553133420754210822</td>\n",
       "      <td>{'username': 'kuechentyrann', 'id': 1490347823...</td>\n",
       "      <td>1</td>\n",
       "      <td>0</td>\n",
       "      <td>1</td>\n",
       "      <td>...</td>\n",
       "      <td>NaN</td>\n",
       "      <td>1.550938e+18</td>\n",
       "      <td>{'username': 'Teddymonster161', 'id': 13196167...</td>\n",
       "      <td>NaN</td>\n",
       "      <td>NaN</td>\n",
       "      <td>NaN</td>\n",
       "      <td>NaN</td>\n",
       "      <td>NaN</td>\n",
       "      <td>@Teddymonster10 Die haben aber einen guten Nut...</td>\n",
       "      <td>@Teddymonster10 they have a good nutriscore</td>\n",
       "    </tr>\n",
       "    <tr>\n",
       "      <th>2</th>\n",
       "      <td>2</td>\n",
       "      <td>https://twitter.com/Annatsi/status/15531227870...</td>\n",
       "      <td>2022-07-29 20:58:22+00:00</td>\n",
       "      <td>@verrechts @IvanVandeCloot Die ecoscore en  nu...</td>\n",
       "      <td>@verrechts @IvanVandeCloot Die ecoscore en  nu...</td>\n",
       "      <td>1553122787073695745</td>\n",
       "      <td>{'username': 'Annatsi', 'id': 290145437, 'disp...</td>\n",
       "      <td>0</td>\n",
       "      <td>0</td>\n",
       "      <td>1</td>\n",
       "      <td>...</td>\n",
       "      <td>NaN</td>\n",
       "      <td>1.552937e+18</td>\n",
       "      <td>{'username': 'verrechts', 'id': 87525579247523...</td>\n",
       "      <td>[{'username': 'verrechts', 'id': 8752557924752...</td>\n",
       "      <td>NaN</td>\n",
       "      <td>NaN</td>\n",
       "      <td>NaN</td>\n",
       "      <td>NaN</td>\n",
       "      <td>@verrechts @IvanVandeCloot Die ecoscore en  nu...</td>\n",
       "      <td>@Vrechts @IVanVanDecloot that Ecoscore and Nut...</td>\n",
       "    </tr>\n",
       "    <tr>\n",
       "      <th>3</th>\n",
       "      <td>3</td>\n",
       "      <td>https://twitter.com/Albero1000/status/15531218...</td>\n",
       "      <td>2022-07-29 20:54:41+00:00</td>\n",
       "      <td>@matteosalvinimi Quindi, gli uffici gli avevan...</td>\n",
       "      <td>@matteosalvinimi Quindi, gli uffici gli avevan...</td>\n",
       "      <td>1553121857808863237</td>\n",
       "      <td>{'username': 'Albero1000', 'id': 1546984488927...</td>\n",
       "      <td>0</td>\n",
       "      <td>0</td>\n",
       "      <td>0</td>\n",
       "      <td>...</td>\n",
       "      <td>NaN</td>\n",
       "      <td>1.552590e+18</td>\n",
       "      <td>{'username': 'matteosalvinimi', 'id': 27083936...</td>\n",
       "      <td>[{'username': 'matteosalvinimi', 'id': 2708393...</td>\n",
       "      <td>NaN</td>\n",
       "      <td>NaN</td>\n",
       "      <td>NaN</td>\n",
       "      <td>NaN</td>\n",
       "      <td>@matteosalvinimi Quindi, gli uffici gli avevan...</td>\n",
       "      <td>@matteosalvinimi then, the offices had prepare...</td>\n",
       "    </tr>\n",
       "    <tr>\n",
       "      <th>4</th>\n",
       "      <td>4</td>\n",
       "      <td>https://twitter.com/Quentin_Schlt/status/15531...</td>\n",
       "      <td>2022-07-29 20:33:46+00:00</td>\n",
       "      <td>Nan mais attendez là, ils ont mis le nutriscor...</td>\n",
       "      <td>Nan mais attendez là, ils ont mis le nutriscor...</td>\n",
       "      <td>1553116593885945858</td>\n",
       "      <td>{'username': 'Quentin_Schlt', 'id': 1351868474...</td>\n",
       "      <td>2</td>\n",
       "      <td>1</td>\n",
       "      <td>6</td>\n",
       "      <td>...</td>\n",
       "      <td>NaN</td>\n",
       "      <td>NaN</td>\n",
       "      <td>NaN</td>\n",
       "      <td>NaN</td>\n",
       "      <td>NaN</td>\n",
       "      <td>NaN</td>\n",
       "      <td>NaN</td>\n",
       "      <td>NaN</td>\n",
       "      <td>Nan mais attendez là, ils ont mis le nutriscor...</td>\n",
       "      <td>No, but wait there, they put the Nutriscore on...</td>\n",
       "    </tr>\n",
       "  </tbody>\n",
       "</table>\n",
       "<p>5 rows × 30 columns</p>\n",
       "</div>"
      ],
      "text/plain": [
       "   Unnamed: 0                                                url  \\\n",
       "0           0  https://twitter.com/Teddymonster161/status/155...   \n",
       "1           1  https://twitter.com/kuechentyrann/status/15531...   \n",
       "2           2  https://twitter.com/Annatsi/status/15531227870...   \n",
       "3           3  https://twitter.com/Albero1000/status/15531218...   \n",
       "4           4  https://twitter.com/Quentin_Schlt/status/15531...   \n",
       "\n",
       "                        date  \\\n",
       "0  2022-07-29 21:45:54+00:00   \n",
       "1  2022-07-29 21:40:37+00:00   \n",
       "2  2022-07-29 20:58:22+00:00   \n",
       "3  2022-07-29 20:54:41+00:00   \n",
       "4  2022-07-29 20:33:46+00:00   \n",
       "\n",
       "                                             content  \\\n",
       "0  @kuechentyrann Deine Eier haben guten nutriscore.   \n",
       "1  @Teddymonster10 Die haben aber einen guten Nut...   \n",
       "2  @verrechts @IvanVandeCloot Die ecoscore en  nu...   \n",
       "3  @matteosalvinimi Quindi, gli uffici gli avevan...   \n",
       "4  Nan mais attendez là, ils ont mis le nutriscor...   \n",
       "\n",
       "                                     renderedContent                   id  \\\n",
       "0  @kuechentyrann Deine Eier haben guten nutriscore.  1553134748435881984   \n",
       "1  @Teddymonster10 Die haben aber einen guten Nut...  1553133420754210822   \n",
       "2  @verrechts @IvanVandeCloot Die ecoscore en  nu...  1553122787073695745   \n",
       "3  @matteosalvinimi Quindi, gli uffici gli avevan...  1553121857808863237   \n",
       "4  Nan mais attendez là, ils ont mis le nutriscor...  1553116593885945858   \n",
       "\n",
       "                                                user  replyCount  \\\n",
       "0  {'username': 'Teddymonster161', 'id': 13196167...           1   \n",
       "1  {'username': 'kuechentyrann', 'id': 1490347823...           1   \n",
       "2  {'username': 'Annatsi', 'id': 290145437, 'disp...           0   \n",
       "3  {'username': 'Albero1000', 'id': 1546984488927...           0   \n",
       "4  {'username': 'Quentin_Schlt', 'id': 1351868474...           2   \n",
       "\n",
       "   retweetCount  likeCount  ...  quotedTweet  inReplyToTweetId  \\\n",
       "0             0          1  ...          NaN      1.553133e+18   \n",
       "1             0          1  ...          NaN      1.550938e+18   \n",
       "2             0          1  ...          NaN      1.552937e+18   \n",
       "3             0          0  ...          NaN      1.552590e+18   \n",
       "4             1          6  ...          NaN               NaN   \n",
       "\n",
       "                                       inReplyToUser  \\\n",
       "0  {'username': 'kuechentyrann', 'id': 1490347823...   \n",
       "1  {'username': 'Teddymonster161', 'id': 13196167...   \n",
       "2  {'username': 'verrechts', 'id': 87525579247523...   \n",
       "3  {'username': 'matteosalvinimi', 'id': 27083936...   \n",
       "4                                                NaN   \n",
       "\n",
       "                                      mentionedUsers coordinates place  \\\n",
       "0  [{'username': 'kuechentyrann', 'id': 149034782...         NaN   NaN   \n",
       "1                                                NaN         NaN   NaN   \n",
       "2  [{'username': 'verrechts', 'id': 8752557924752...         NaN   NaN   \n",
       "3  [{'username': 'matteosalvinimi', 'id': 2708393...         NaN   NaN   \n",
       "4                                                NaN         NaN   NaN   \n",
       "\n",
       "  hashtags cashtags                                      content_trans  \\\n",
       "0      NaN      NaN  @kuechentyrann Deine Eier haben guten nutriscore.   \n",
       "1      NaN      NaN  @Teddymonster10 Die haben aber einen guten Nut...   \n",
       "2      NaN      NaN  @verrechts @IvanVandeCloot Die ecoscore en  nu...   \n",
       "3      NaN      NaN  @matteosalvinimi Quindi, gli uffici gli avevan...   \n",
       "4      NaN      NaN  Nan mais attendez là, ils ont mis le nutriscor...   \n",
       "\n",
       "                          translated_english_content  \n",
       "0     @Kuechentyrann Your eggs have good nutriscore.  \n",
       "1        @Teddymonster10 they have a good nutriscore  \n",
       "2  @Vrechts @IVanVanDecloot that Ecoscore and Nut...  \n",
       "3  @matteosalvinimi then, the offices had prepare...  \n",
       "4  No, but wait there, they put the Nutriscore on...  \n",
       "\n",
       "[5 rows x 30 columns]"
      ]
     },
     "execution_count": 3,
     "metadata": {},
     "output_type": "execute_result"
    }
   ],
   "source": [
    "df.head()"
   ]
  },
  {
   "cell_type": "code",
   "execution_count": 4,
   "id": "35bb52d9",
   "metadata": {},
   "outputs": [
    {
     "data": {
      "text/plain": [
       "Index(['Unnamed: 0', 'url', 'date', 'content', 'renderedContent', 'id', 'user',\n",
       "       'replyCount', 'retweetCount', 'likeCount', 'quoteCount',\n",
       "       'conversationId', 'lang', 'source', 'sourceUrl', 'sourceLabel',\n",
       "       'outlinks', 'tcooutlinks', 'media', 'retweetedTweet', 'quotedTweet',\n",
       "       'inReplyToTweetId', 'inReplyToUser', 'mentionedUsers', 'coordinates',\n",
       "       'place', 'hashtags', 'cashtags', 'content_trans',\n",
       "       'translated_english_content'],\n",
       "      dtype='object')"
      ]
     },
     "execution_count": 4,
     "metadata": {},
     "output_type": "execute_result"
    }
   ],
   "source": [
    "df.columns"
   ]
  },
  {
   "cell_type": "code",
   "execution_count": 5,
   "id": "5e7bbbae",
   "metadata": {},
   "outputs": [],
   "source": [
    "# removing unnamed column\n",
    "df.drop('Unnamed: 0', axis=1, inplace=True)"
   ]
  },
  {
   "cell_type": "code",
   "execution_count": 6,
   "id": "d4b97f5a",
   "metadata": {},
   "outputs": [
    {
     "data": {
      "text/plain": [
       "<AxesSubplot:title={'center':'likes of contents'}>"
      ]
     },
     "execution_count": 6,
     "metadata": {},
     "output_type": "execute_result"
    },
    {
     "data": {
      "image/png": "[encoded data removed]",
      "text/plain": [
       "<Figure size 864x360 with 1 Axes>"
      ]
     },
     "metadata": {
      "needs_background": "light"
     },
     "output_type": "display_data"
    }
   ],
   "source": [
    "df['replyCount'].value_counts().sort_index().plot(kind='bar', title='likes of contents', figsize=(12,5))"
   ]
  },
  {
   "cell_type": "markdown",
   "id": "78ac7133",
   "metadata": {},
   "source": [
    "most of the contents got 1 or 2 likes mostly"
   ]
  },
  {
   "cell_type": "code",
   "execution_count": 7,
   "id": "5b869613",
   "metadata": {},
   "outputs": [],
   "source": [
    "from nltk.sentiment import SentimentIntensityAnalyzer\n",
    "sa = SentimentIntensityAnalyzer()"
   ]
  },
  {
   "cell_type": "code",
   "execution_count": 8,
   "id": "edac1e7d",
   "metadata": {},
   "outputs": [],
   "source": [
    "res = {}\n",
    "for i, row in df.iterrows():\n",
    "    text = row['translated_english_content']\n",
    "    \n",
    "    #user = row['user']['username']\n",
    "    res[text] = sa.polarity_scores(text)\n",
    "    \n",
    "    "
   ]
  },
  {
   "cell_type": "code",
   "execution_count": 9,
   "id": "bc940c7c",
   "metadata": {},
   "outputs": [],
   "source": [
    "vad = pd.DataFrame(res).T"
   ]
  },
  {
   "cell_type": "code",
   "execution_count": 10,
   "id": "4cef37e0",
   "metadata": {},
   "outputs": [
    {
     "data": {
      "text/html": [
       "<div>\n",
       "<style scoped>\n",
       "    .dataframe tbody tr th:only-of-type {\n",
       "        vertical-align: middle;\n",
       "    }\n",
       "\n",
       "    .dataframe tbody tr th {\n",
       "        vertical-align: top;\n",
       "    }\n",
       "\n",
       "    .dataframe thead th {\n",
       "        text-align: right;\n",
       "    }\n",
       "</style>\n",
       "<table border=\"1\" class=\"dataframe\">\n",
       "  <thead>\n",
       "    <tr style=\"text-align: right;\">\n",
       "      <th></th>\n",
       "      <th>neg</th>\n",
       "      <th>neu</th>\n",
       "      <th>pos</th>\n",
       "      <th>compound</th>\n",
       "    </tr>\n",
       "  </thead>\n",
       "  <tbody>\n",
       "    <tr>\n",
       "      <th>@Kuechentyrann Your eggs have good nutriscore.</th>\n",
       "      <td>0.00</td>\n",
       "      <td>0.633</td>\n",
       "      <td>0.367</td>\n",
       "      <td>0.4404</td>\n",
       "    </tr>\n",
       "    <tr>\n",
       "      <th>@Teddymonster10 they have a good nutriscore</th>\n",
       "      <td>0.00</td>\n",
       "      <td>0.580</td>\n",
       "      <td>0.420</td>\n",
       "      <td>0.4404</td>\n",
       "    </tr>\n",
       "    <tr>\n",
       "      <th>@Vrechts @IVanVanDecloot that Ecoscore and Nutriscore that is all farmed -frog.</th>\n",
       "      <td>0.00</td>\n",
       "      <td>1.000</td>\n",
       "      <td>0.000</td>\n",
       "      <td>0.0000</td>\n",
       "    </tr>\n",
       "    <tr>\n",
       "      <th>@matteosalvinimi then, the offices had prepared the dossier on Pnnr and nourish, but he, superficial as he is, did not read it, he did not study him, he is never learned something. He prefers to speak in the arm by repeating the same things, the same lists, the same jokes.</th>\n",
       "      <td>0.00</td>\n",
       "      <td>0.924</td>\n",
       "      <td>0.076</td>\n",
       "      <td>0.4497</td>\n",
       "    </tr>\n",
       "    <tr>\n",
       "      <th>No, but wait there, they put the Nutriscore on bottles of water? ☠️☠️ https://t.co/eq5bcer680</th>\n",
       "      <td>0.11</td>\n",
       "      <td>0.890</td>\n",
       "      <td>0.000</td>\n",
       "      <td>-0.1531</td>\n",
       "    </tr>\n",
       "  </tbody>\n",
       "</table>\n",
       "</div>"
      ],
      "text/plain": [
       "                                                     neg    neu    pos  \\\n",
       "@Kuechentyrann Your eggs have good nutriscore.      0.00  0.633  0.367   \n",
       "@Teddymonster10 they have a good nutriscore         0.00  0.580  0.420   \n",
       "@Vrechts @IVanVanDecloot that Ecoscore and Nutr...  0.00  1.000  0.000   \n",
       "@matteosalvinimi then, the offices had prepared...  0.00  0.924  0.076   \n",
       "No, but wait there, they put the Nutriscore on ...  0.11  0.890  0.000   \n",
       "\n",
       "                                                    compound  \n",
       "@Kuechentyrann Your eggs have good nutriscore.        0.4404  \n",
       "@Teddymonster10 they have a good nutriscore           0.4404  \n",
       "@Vrechts @IVanVanDecloot that Ecoscore and Nutr...    0.0000  \n",
       "@matteosalvinimi then, the offices had prepared...    0.4497  \n",
       "No, but wait there, they put the Nutriscore on ...   -0.1531  "
      ]
     },
     "execution_count": 10,
     "metadata": {},
     "output_type": "execute_result"
    }
   ],
   "source": [
    "vad.head()"
   ]
  },
  {
   "cell_type": "code",
   "execution_count": 11,
   "id": "574e1d06",
   "metadata": {},
   "outputs": [],
   "source": [
    "vad = vad.reset_index().rename(columns={'index': 'translated_english_content'})"
   ]
  },
  {
   "cell_type": "code",
   "execution_count": 12,
   "id": "8d4e38ad",
   "metadata": {},
   "outputs": [
    {
     "data": {
      "text/plain": [
       "(28427, 5)"
      ]
     },
     "execution_count": 12,
     "metadata": {},
     "output_type": "execute_result"
    }
   ],
   "source": [
    "vad.shape"
   ]
  },
  {
   "cell_type": "markdown",
   "id": "4796862e",
   "metadata": {},
   "source": [
    "<b>DATA CLEANING</b>"
   ]
  },
  {
   "cell_type": "code",
   "execution_count": 13,
   "id": "548fb5c3",
   "metadata": {},
   "outputs": [
    {
     "data": {
      "text/html": [
       "<div>\n",
       "<style scoped>\n",
       "    .dataframe tbody tr th:only-of-type {\n",
       "        vertical-align: middle;\n",
       "    }\n",
       "\n",
       "    .dataframe tbody tr th {\n",
       "        vertical-align: top;\n",
       "    }\n",
       "\n",
       "    .dataframe thead th {\n",
       "        text-align: right;\n",
       "    }\n",
       "</style>\n",
       "<table border=\"1\" class=\"dataframe\">\n",
       "  <thead>\n",
       "    <tr style=\"text-align: right;\">\n",
       "      <th></th>\n",
       "      <th>translated_english_content</th>\n",
       "      <th>neg</th>\n",
       "      <th>neu</th>\n",
       "      <th>pos</th>\n",
       "      <th>compound</th>\n",
       "      <th>Cleaned_Content</th>\n",
       "    </tr>\n",
       "  </thead>\n",
       "  <tbody>\n",
       "    <tr>\n",
       "      <th>0</th>\n",
       "      <td>@Kuechentyrann Your eggs have good nutriscore.</td>\n",
       "      <td>0.00</td>\n",
       "      <td>0.633</td>\n",
       "      <td>0.367</td>\n",
       "      <td>0.4404</td>\n",
       "      <td>Kuechentyrann Your eggs have good nutriscore</td>\n",
       "    </tr>\n",
       "    <tr>\n",
       "      <th>1</th>\n",
       "      <td>@Teddymonster10 they have a good nutriscore</td>\n",
       "      <td>0.00</td>\n",
       "      <td>0.580</td>\n",
       "      <td>0.420</td>\n",
       "      <td>0.4404</td>\n",
       "      <td>Teddymonster they have a good nutriscore</td>\n",
       "    </tr>\n",
       "    <tr>\n",
       "      <th>2</th>\n",
       "      <td>@Vrechts @IVanVanDecloot that Ecoscore and Nut...</td>\n",
       "      <td>0.00</td>\n",
       "      <td>1.000</td>\n",
       "      <td>0.000</td>\n",
       "      <td>0.0000</td>\n",
       "      <td>Vrechts IVanVanDecloot that Ecoscore and Nutr...</td>\n",
       "    </tr>\n",
       "    <tr>\n",
       "      <th>3</th>\n",
       "      <td>@matteosalvinimi then, the offices had prepare...</td>\n",
       "      <td>0.00</td>\n",
       "      <td>0.924</td>\n",
       "      <td>0.076</td>\n",
       "      <td>0.4497</td>\n",
       "      <td>matteosalvinimi then the offices had prepared...</td>\n",
       "    </tr>\n",
       "    <tr>\n",
       "      <th>4</th>\n",
       "      <td>No, but wait there, they put the Nutriscore on...</td>\n",
       "      <td>0.11</td>\n",
       "      <td>0.890</td>\n",
       "      <td>0.000</td>\n",
       "      <td>-0.1531</td>\n",
       "      <td>No but wait there they put the Nutriscore on b...</td>\n",
       "    </tr>\n",
       "  </tbody>\n",
       "</table>\n",
       "</div>"
      ],
      "text/plain": [
       "                          translated_english_content   neg    neu    pos  \\\n",
       "0     @Kuechentyrann Your eggs have good nutriscore.  0.00  0.633  0.367   \n",
       "1        @Teddymonster10 they have a good nutriscore  0.00  0.580  0.420   \n",
       "2  @Vrechts @IVanVanDecloot that Ecoscore and Nut...  0.00  1.000  0.000   \n",
       "3  @matteosalvinimi then, the offices had prepare...  0.00  0.924  0.076   \n",
       "4  No, but wait there, they put the Nutriscore on...  0.11  0.890  0.000   \n",
       "\n",
       "   compound                                    Cleaned_Content  \n",
       "0    0.4404      Kuechentyrann Your eggs have good nutriscore   \n",
       "1    0.4404           Teddymonster they have a good nutriscore  \n",
       "2    0.0000   Vrechts IVanVanDecloot that Ecoscore and Nutr...  \n",
       "3    0.4497   matteosalvinimi then the offices had prepared...  \n",
       "4   -0.1531  No but wait there they put the Nutriscore on b...  "
      ]
     },
     "execution_count": 13,
     "metadata": {},
     "output_type": "execute_result"
    }
   ],
   "source": [
    "# Define a function to clean the text\n",
    "\n",
    "def clean(text):\n",
    "# Removes all special characters and numericals leaving the alphabets\n",
    "    text = re.sub('[^A-Za-z]+', ' ', text)\n",
    "    return text\n",
    "\n",
    "# Cleaning the text in the review column\n",
    "vad['Cleaned_Content'] = vad['translated_english_content'].apply(clean)\n",
    "vad.head()"
   ]
  },
  {
   "cell_type": "markdown",
   "id": "34d523ed",
   "metadata": {},
   "source": [
    "<b>TOKENIZATION  STOP WORDS AND POS TAGGING</b>"
   ]
  },
  {
   "cell_type": "code",
   "execution_count": 14,
   "id": "046fa568",
   "metadata": {},
   "outputs": [
    {
     "name": "stderr",
     "output_type": "stream",
     "text": [
      "[nltk_data] Downloading package punkt to\n",
      "[nltk_data]     C:\\Users\\sdey2\\AppData\\Roaming\\nltk_data...\n",
      "[nltk_data]   Package punkt is already up-to-date!\n",
      "[nltk_data] Downloading package stopwords to\n",
      "[nltk_data]     C:\\Users\\sdey2\\AppData\\Roaming\\nltk_data...\n",
      "[nltk_data]   Package stopwords is already up-to-date!\n",
      "[nltk_data] Downloading package wordnet to\n",
      "[nltk_data]     C:\\Users\\sdey2\\AppData\\Roaming\\nltk_data...\n",
      "[nltk_data]   Package wordnet is already up-to-date!\n"
     ]
    }
   ],
   "source": [
    "import nltk\n",
    "nltk.download('punkt')\n",
    "from nltk.tokenize import word_tokenize\n",
    "from nltk import pos_tag\n",
    "nltk.download('stopwords')\n",
    "from nltk.corpus import stopwords\n",
    "nltk.download('wordnet')\n",
    "from nltk.corpus import wordnet\n",
    "\n",
    "# POS tagger dictionary\n",
    "pos_dict = {'J':wordnet.ADJ, 'V':wordnet.VERB, 'N':wordnet.NOUN, 'R':wordnet.ADV}\n",
    "def token_stop_pos(text):\n",
    "    tags = pos_tag(word_tokenize(text))\n",
    "    newlist = []\n",
    "    for word, tag in tags:\n",
    "        if word.lower() not in set(stopwords.words('english')):\n",
    "            newlist.append(tuple([word, pos_dict.get(tag[0])]))\n",
    "    return newlist"
   ]
  },
  {
   "cell_type": "code",
   "execution_count": 15,
   "id": "1c8816d8",
   "metadata": {},
   "outputs": [
    {
     "name": "stderr",
     "output_type": "stream",
     "text": [
      "100%|███████████████████████████████████████████████████████████████████████| 28427/28427 [00:00<00:00, 2842363.87it/s]\n"
     ]
    },
    {
     "data": {
      "text/html": [
       "<div>\n",
       "<style scoped>\n",
       "    .dataframe tbody tr th:only-of-type {\n",
       "        vertical-align: middle;\n",
       "    }\n",
       "\n",
       "    .dataframe tbody tr th {\n",
       "        vertical-align: top;\n",
       "    }\n",
       "\n",
       "    .dataframe thead th {\n",
       "        text-align: right;\n",
       "    }\n",
       "</style>\n",
       "<table border=\"1\" class=\"dataframe\">\n",
       "  <thead>\n",
       "    <tr style=\"text-align: right;\">\n",
       "      <th></th>\n",
       "      <th>translated_english_content</th>\n",
       "      <th>neg</th>\n",
       "      <th>neu</th>\n",
       "      <th>pos</th>\n",
       "      <th>compound</th>\n",
       "      <th>Cleaned_Content</th>\n",
       "      <th>POS tagged</th>\n",
       "    </tr>\n",
       "  </thead>\n",
       "  <tbody>\n",
       "    <tr>\n",
       "      <th>0</th>\n",
       "      <td>@Kuechentyrann Your eggs have good nutriscore.</td>\n",
       "      <td>0.00</td>\n",
       "      <td>0.633</td>\n",
       "      <td>0.367</td>\n",
       "      <td>0.4404</td>\n",
       "      <td>Kuechentyrann Your eggs have good nutriscore</td>\n",
       "      <td>[(Kuechentyrann, n), (eggs, n), (good, a), (nu...</td>\n",
       "    </tr>\n",
       "    <tr>\n",
       "      <th>1</th>\n",
       "      <td>@Teddymonster10 they have a good nutriscore</td>\n",
       "      <td>0.00</td>\n",
       "      <td>0.580</td>\n",
       "      <td>0.420</td>\n",
       "      <td>0.4404</td>\n",
       "      <td>Teddymonster they have a good nutriscore</td>\n",
       "      <td>[(Teddymonster, n), (good, a), (nutriscore, n)]</td>\n",
       "    </tr>\n",
       "    <tr>\n",
       "      <th>2</th>\n",
       "      <td>@Vrechts @IVanVanDecloot that Ecoscore and Nut...</td>\n",
       "      <td>0.00</td>\n",
       "      <td>1.000</td>\n",
       "      <td>0.000</td>\n",
       "      <td>0.0000</td>\n",
       "      <td>Vrechts IVanVanDecloot that Ecoscore and Nutr...</td>\n",
       "      <td>[(Vrechts, n), (IVanVanDecloot, n), (Ecoscore,...</td>\n",
       "    </tr>\n",
       "    <tr>\n",
       "      <th>3</th>\n",
       "      <td>@matteosalvinimi then, the offices had prepare...</td>\n",
       "      <td>0.00</td>\n",
       "      <td>0.924</td>\n",
       "      <td>0.076</td>\n",
       "      <td>0.4497</td>\n",
       "      <td>matteosalvinimi then the offices had prepared...</td>\n",
       "      <td>[(matteosalvinimi, n), (offices, n), (prepared...</td>\n",
       "    </tr>\n",
       "    <tr>\n",
       "      <th>4</th>\n",
       "      <td>No, but wait there, they put the Nutriscore on...</td>\n",
       "      <td>0.11</td>\n",
       "      <td>0.890</td>\n",
       "      <td>0.000</td>\n",
       "      <td>-0.1531</td>\n",
       "      <td>No but wait there they put the Nutriscore on b...</td>\n",
       "      <td>[(wait, v), (put, v), (Nutriscore, n), (bottle...</td>\n",
       "    </tr>\n",
       "  </tbody>\n",
       "</table>\n",
       "</div>"
      ],
      "text/plain": [
       "                          translated_english_content   neg    neu    pos  \\\n",
       "0     @Kuechentyrann Your eggs have good nutriscore.  0.00  0.633  0.367   \n",
       "1        @Teddymonster10 they have a good nutriscore  0.00  0.580  0.420   \n",
       "2  @Vrechts @IVanVanDecloot that Ecoscore and Nut...  0.00  1.000  0.000   \n",
       "3  @matteosalvinimi then, the offices had prepare...  0.00  0.924  0.076   \n",
       "4  No, but wait there, they put the Nutriscore on...  0.11  0.890  0.000   \n",
       "\n",
       "   compound                                    Cleaned_Content  \\\n",
       "0    0.4404      Kuechentyrann Your eggs have good nutriscore    \n",
       "1    0.4404           Teddymonster they have a good nutriscore   \n",
       "2    0.0000   Vrechts IVanVanDecloot that Ecoscore and Nutr...   \n",
       "3    0.4497   matteosalvinimi then the offices had prepared...   \n",
       "4   -0.1531  No but wait there they put the Nutriscore on b...   \n",
       "\n",
       "                                          POS tagged  \n",
       "0  [(Kuechentyrann, n), (eggs, n), (good, a), (nu...  \n",
       "1    [(Teddymonster, n), (good, a), (nutriscore, n)]  \n",
       "2  [(Vrechts, n), (IVanVanDecloot, n), (Ecoscore,...  \n",
       "3  [(matteosalvinimi, n), (offices, n), (prepared...  \n",
       "4  [(wait, v), (put, v), (Nutriscore, n), (bottle...  "
      ]
     },
     "execution_count": 15,
     "metadata": {},
     "output_type": "execute_result"
    }
   ],
   "source": [
    "vad['POS tagged'] = tqdm.tqdm(vad['Cleaned_Content'].apply(token_stop_pos))\n",
    "vad.head()"
   ]
  },
  {
   "cell_type": "markdown",
   "id": "24889554",
   "metadata": {},
   "source": [
    "<b>Obtaining the stem words – Lemmatization</b>"
   ]
  },
  {
   "cell_type": "code",
   "execution_count": 16,
   "id": "0790d960",
   "metadata": {},
   "outputs": [
    {
     "data": {
      "text/html": [
       "<div>\n",
       "<style scoped>\n",
       "    .dataframe tbody tr th:only-of-type {\n",
       "        vertical-align: middle;\n",
       "    }\n",
       "\n",
       "    .dataframe tbody tr th {\n",
       "        vertical-align: top;\n",
       "    }\n",
       "\n",
       "    .dataframe thead th {\n",
       "        text-align: right;\n",
       "    }\n",
       "</style>\n",
       "<table border=\"1\" class=\"dataframe\">\n",
       "  <thead>\n",
       "    <tr style=\"text-align: right;\">\n",
       "      <th></th>\n",
       "      <th>translated_english_content</th>\n",
       "      <th>neg</th>\n",
       "      <th>neu</th>\n",
       "      <th>pos</th>\n",
       "      <th>compound</th>\n",
       "      <th>Cleaned_Content</th>\n",
       "      <th>POS tagged</th>\n",
       "      <th>Lemma</th>\n",
       "    </tr>\n",
       "  </thead>\n",
       "  <tbody>\n",
       "    <tr>\n",
       "      <th>0</th>\n",
       "      <td>@Kuechentyrann Your eggs have good nutriscore.</td>\n",
       "      <td>0.00</td>\n",
       "      <td>0.633</td>\n",
       "      <td>0.367</td>\n",
       "      <td>0.4404</td>\n",
       "      <td>Kuechentyrann Your eggs have good nutriscore</td>\n",
       "      <td>[(Kuechentyrann, n), (eggs, n), (good, a), (nu...</td>\n",
       "      <td>Kuechentyrann egg good nutriscore</td>\n",
       "    </tr>\n",
       "    <tr>\n",
       "      <th>1</th>\n",
       "      <td>@Teddymonster10 they have a good nutriscore</td>\n",
       "      <td>0.00</td>\n",
       "      <td>0.580</td>\n",
       "      <td>0.420</td>\n",
       "      <td>0.4404</td>\n",
       "      <td>Teddymonster they have a good nutriscore</td>\n",
       "      <td>[(Teddymonster, n), (good, a), (nutriscore, n)]</td>\n",
       "      <td>Teddymonster good nutriscore</td>\n",
       "    </tr>\n",
       "    <tr>\n",
       "      <th>2</th>\n",
       "      <td>@Vrechts @IVanVanDecloot that Ecoscore and Nut...</td>\n",
       "      <td>0.00</td>\n",
       "      <td>1.000</td>\n",
       "      <td>0.000</td>\n",
       "      <td>0.0000</td>\n",
       "      <td>Vrechts IVanVanDecloot that Ecoscore and Nutr...</td>\n",
       "      <td>[(Vrechts, n), (IVanVanDecloot, n), (Ecoscore,...</td>\n",
       "      <td>Vrechts IVanVanDecloot Ecoscore Nutriscore f...</td>\n",
       "    </tr>\n",
       "    <tr>\n",
       "      <th>3</th>\n",
       "      <td>@matteosalvinimi then, the offices had prepare...</td>\n",
       "      <td>0.00</td>\n",
       "      <td>0.924</td>\n",
       "      <td>0.076</td>\n",
       "      <td>0.4497</td>\n",
       "      <td>matteosalvinimi then the offices had prepared...</td>\n",
       "      <td>[(matteosalvinimi, n), (offices, n), (prepared...</td>\n",
       "      <td>matteosalvinimi office prepare dossier Pnnr ...</td>\n",
       "    </tr>\n",
       "    <tr>\n",
       "      <th>4</th>\n",
       "      <td>No, but wait there, they put the Nutriscore on...</td>\n",
       "      <td>0.11</td>\n",
       "      <td>0.890</td>\n",
       "      <td>0.000</td>\n",
       "      <td>-0.1531</td>\n",
       "      <td>No but wait there they put the Nutriscore on b...</td>\n",
       "      <td>[(wait, v), (put, v), (Nutriscore, n), (bottle...</td>\n",
       "      <td>wait put Nutriscore bottle water http co eq ...</td>\n",
       "    </tr>\n",
       "  </tbody>\n",
       "</table>\n",
       "</div>"
      ],
      "text/plain": [
       "                          translated_english_content   neg    neu    pos  \\\n",
       "0     @Kuechentyrann Your eggs have good nutriscore.  0.00  0.633  0.367   \n",
       "1        @Teddymonster10 they have a good nutriscore  0.00  0.580  0.420   \n",
       "2  @Vrechts @IVanVanDecloot that Ecoscore and Nut...  0.00  1.000  0.000   \n",
       "3  @matteosalvinimi then, the offices had prepare...  0.00  0.924  0.076   \n",
       "4  No, but wait there, they put the Nutriscore on...  0.11  0.890  0.000   \n",
       "\n",
       "   compound                                    Cleaned_Content  \\\n",
       "0    0.4404      Kuechentyrann Your eggs have good nutriscore    \n",
       "1    0.4404           Teddymonster they have a good nutriscore   \n",
       "2    0.0000   Vrechts IVanVanDecloot that Ecoscore and Nutr...   \n",
       "3    0.4497   matteosalvinimi then the offices had prepared...   \n",
       "4   -0.1531  No but wait there they put the Nutriscore on b...   \n",
       "\n",
       "                                          POS tagged  \\\n",
       "0  [(Kuechentyrann, n), (eggs, n), (good, a), (nu...   \n",
       "1    [(Teddymonster, n), (good, a), (nutriscore, n)]   \n",
       "2  [(Vrechts, n), (IVanVanDecloot, n), (Ecoscore,...   \n",
       "3  [(matteosalvinimi, n), (offices, n), (prepared...   \n",
       "4  [(wait, v), (put, v), (Nutriscore, n), (bottle...   \n",
       "\n",
       "                                               Lemma  \n",
       "0                  Kuechentyrann egg good nutriscore  \n",
       "1                       Teddymonster good nutriscore  \n",
       "2    Vrechts IVanVanDecloot Ecoscore Nutriscore f...  \n",
       "3    matteosalvinimi office prepare dossier Pnnr ...  \n",
       "4    wait put Nutriscore bottle water http co eq ...  "
      ]
     },
     "execution_count": 16,
     "metadata": {},
     "output_type": "execute_result"
    }
   ],
   "source": [
    "from nltk.stem import WordNetLemmatizer\n",
    "wordnet_lemmatizer = WordNetLemmatizer()\n",
    "def lemmatize(pos_data):\n",
    "    lemma_rew = \" \"\n",
    "    for word, pos in pos_data:\n",
    "        if not pos:\n",
    "            lemma = word\n",
    "            lemma_rew = lemma_rew + \" \" + lemma\n",
    "\n",
    "        else:\n",
    "            lemma = wordnet_lemmatizer.lemmatize(word, pos=pos)\n",
    "            lemma_rew = lemma_rew + \" \" + lemma\n",
    "    return lemma_rew\n",
    "\n",
    "vad['Lemma'] = vad['POS tagged'].apply(lemmatize)\n",
    "vad.head()"
   ]
  },
  {
   "cell_type": "code",
   "execution_count": 17,
   "id": "5b1c9427",
   "metadata": {},
   "outputs": [],
   "source": [
    "from textblob import TextBlob\n",
    "# function to calculate subjectivity\n",
    "def getSubjectivity(review):\n",
    "    return TextBlob(review).sentiment.subjectivity\n",
    "    # function to calculate polarity\n",
    "def getPolarity(review):\n",
    "    return TextBlob(review).sentiment.polarity\n",
    "\n",
    "# function to analyze the reviews\n",
    "def analysis(score):\n",
    "    if score < 0:\n",
    "        return 'Negative'\n",
    "    elif score == 0:\n",
    "        return 'Neutral'\n",
    "    else:\n",
    "        return 'Positive'"
   ]
  },
  {
   "cell_type": "code",
   "execution_count": 18,
   "id": "0cbda58d",
   "metadata": {},
   "outputs": [],
   "source": [
    "fin_data = pd.DataFrame(vad[['translated_english_content', 'Lemma']])"
   ]
  },
  {
   "cell_type": "code",
   "execution_count": 19,
   "id": "543f72d4",
   "metadata": {},
   "outputs": [],
   "source": [
    "fin_data['Subjectivity'] = fin_data['Lemma'].apply(getSubjectivity)"
   ]
  },
  {
   "cell_type": "code",
   "execution_count": 20,
   "id": "033256bc",
   "metadata": {},
   "outputs": [],
   "source": [
    "fin_data['Polarity'] = fin_data['Lemma'].apply(getPolarity) "
   ]
  },
  {
   "cell_type": "code",
   "execution_count": 21,
   "id": "ac201cd7",
   "metadata": {},
   "outputs": [
    {
     "data": {
      "text/html": [
       "<div>\n",
       "<style scoped>\n",
       "    .dataframe tbody tr th:only-of-type {\n",
       "        vertical-align: middle;\n",
       "    }\n",
       "\n",
       "    .dataframe tbody tr th {\n",
       "        vertical-align: top;\n",
       "    }\n",
       "\n",
       "    .dataframe thead th {\n",
       "        text-align: right;\n",
       "    }\n",
       "</style>\n",
       "<table border=\"1\" class=\"dataframe\">\n",
       "  <thead>\n",
       "    <tr style=\"text-align: right;\">\n",
       "      <th></th>\n",
       "      <th>translated_english_content</th>\n",
       "      <th>Lemma</th>\n",
       "      <th>Subjectivity</th>\n",
       "      <th>Polarity</th>\n",
       "      <th>Analysis</th>\n",
       "    </tr>\n",
       "  </thead>\n",
       "  <tbody>\n",
       "    <tr>\n",
       "      <th>0</th>\n",
       "      <td>@Kuechentyrann Your eggs have good nutriscore.</td>\n",
       "      <td>Kuechentyrann egg good nutriscore</td>\n",
       "      <td>0.6</td>\n",
       "      <td>0.7</td>\n",
       "      <td>Positive</td>\n",
       "    </tr>\n",
       "    <tr>\n",
       "      <th>1</th>\n",
       "      <td>@Teddymonster10 they have a good nutriscore</td>\n",
       "      <td>Teddymonster good nutriscore</td>\n",
       "      <td>0.6</td>\n",
       "      <td>0.7</td>\n",
       "      <td>Positive</td>\n",
       "    </tr>\n",
       "    <tr>\n",
       "      <th>2</th>\n",
       "      <td>@Vrechts @IVanVanDecloot that Ecoscore and Nut...</td>\n",
       "      <td>Vrechts IVanVanDecloot Ecoscore Nutriscore f...</td>\n",
       "      <td>0.0</td>\n",
       "      <td>0.0</td>\n",
       "      <td>Neutral</td>\n",
       "    </tr>\n",
       "    <tr>\n",
       "      <th>3</th>\n",
       "      <td>@matteosalvinimi then, the offices had prepare...</td>\n",
       "      <td>matteosalvinimi office prepare dossier Pnnr ...</td>\n",
       "      <td>0.0</td>\n",
       "      <td>0.0</td>\n",
       "      <td>Neutral</td>\n",
       "    </tr>\n",
       "    <tr>\n",
       "      <th>4</th>\n",
       "      <td>No, but wait there, they put the Nutriscore on...</td>\n",
       "      <td>wait put Nutriscore bottle water http co eq ...</td>\n",
       "      <td>0.0</td>\n",
       "      <td>0.0</td>\n",
       "      <td>Neutral</td>\n",
       "    </tr>\n",
       "  </tbody>\n",
       "</table>\n",
       "</div>"
      ],
      "text/plain": [
       "                          translated_english_content  \\\n",
       "0     @Kuechentyrann Your eggs have good nutriscore.   \n",
       "1        @Teddymonster10 they have a good nutriscore   \n",
       "2  @Vrechts @IVanVanDecloot that Ecoscore and Nut...   \n",
       "3  @matteosalvinimi then, the offices had prepare...   \n",
       "4  No, but wait there, they put the Nutriscore on...   \n",
       "\n",
       "                                               Lemma  Subjectivity  Polarity  \\\n",
       "0                  Kuechentyrann egg good nutriscore           0.6       0.7   \n",
       "1                       Teddymonster good nutriscore           0.6       0.7   \n",
       "2    Vrechts IVanVanDecloot Ecoscore Nutriscore f...           0.0       0.0   \n",
       "3    matteosalvinimi office prepare dossier Pnnr ...           0.0       0.0   \n",
       "4    wait put Nutriscore bottle water http co eq ...           0.0       0.0   \n",
       "\n",
       "   Analysis  \n",
       "0  Positive  \n",
       "1  Positive  \n",
       "2   Neutral  \n",
       "3   Neutral  \n",
       "4   Neutral  "
      ]
     },
     "execution_count": 21,
     "metadata": {},
     "output_type": "execute_result"
    }
   ],
   "source": [
    "fin_data['Analysis'] = fin_data['Polarity'].apply(analysis)\n",
    "fin_data.head()"
   ]
  },
  {
   "cell_type": "code",
   "execution_count": 22,
   "id": "0f0a3da8",
   "metadata": {},
   "outputs": [
    {
     "data": {
      "text/plain": [
       "Positive    11438\n",
       "Neutral     11216\n",
       "Negative     5773\n",
       "Name: Analysis, dtype: int64"
      ]
     },
     "execution_count": 22,
     "metadata": {},
     "output_type": "execute_result"
    }
   ],
   "source": [
    "tb_counts = fin_data.Analysis.value_counts()\n",
    "\n",
    "tb_counts"
   ]
  },
  {
   "cell_type": "code",
   "execution_count": 23,
   "id": "1b48fc43",
   "metadata": {},
   "outputs": [
    {
     "data": {
      "text/html": [
       "<div>\n",
       "<style scoped>\n",
       "    .dataframe tbody tr th:only-of-type {\n",
       "        vertical-align: middle;\n",
       "    }\n",
       "\n",
       "    .dataframe tbody tr th {\n",
       "        vertical-align: top;\n",
       "    }\n",
       "\n",
       "    .dataframe thead th {\n",
       "        text-align: right;\n",
       "    }\n",
       "</style>\n",
       "<table border=\"1\" class=\"dataframe\">\n",
       "  <thead>\n",
       "    <tr style=\"text-align: right;\">\n",
       "      <th></th>\n",
       "      <th>translated_english_content</th>\n",
       "      <th>Lemma</th>\n",
       "      <th>Subjectivity</th>\n",
       "      <th>Polarity</th>\n",
       "      <th>Analysis</th>\n",
       "      <th>Vader Sentiment</th>\n",
       "      <th>Vader Analysis</th>\n",
       "    </tr>\n",
       "  </thead>\n",
       "  <tbody>\n",
       "    <tr>\n",
       "      <th>0</th>\n",
       "      <td>@Kuechentyrann Your eggs have good nutriscore.</td>\n",
       "      <td>Kuechentyrann egg good nutriscore</td>\n",
       "      <td>0.6</td>\n",
       "      <td>0.7</td>\n",
       "      <td>Positive</td>\n",
       "      <td>0.4404</td>\n",
       "      <td>Neutral</td>\n",
       "    </tr>\n",
       "    <tr>\n",
       "      <th>1</th>\n",
       "      <td>@Teddymonster10 they have a good nutriscore</td>\n",
       "      <td>Teddymonster good nutriscore</td>\n",
       "      <td>0.6</td>\n",
       "      <td>0.7</td>\n",
       "      <td>Positive</td>\n",
       "      <td>0.4404</td>\n",
       "      <td>Neutral</td>\n",
       "    </tr>\n",
       "    <tr>\n",
       "      <th>2</th>\n",
       "      <td>@Vrechts @IVanVanDecloot that Ecoscore and Nut...</td>\n",
       "      <td>Vrechts IVanVanDecloot Ecoscore Nutriscore f...</td>\n",
       "      <td>0.0</td>\n",
       "      <td>0.0</td>\n",
       "      <td>Neutral</td>\n",
       "      <td>0.0000</td>\n",
       "      <td>Neutral</td>\n",
       "    </tr>\n",
       "    <tr>\n",
       "      <th>3</th>\n",
       "      <td>@matteosalvinimi then, the offices had prepare...</td>\n",
       "      <td>matteosalvinimi office prepare dossier Pnnr ...</td>\n",
       "      <td>0.0</td>\n",
       "      <td>0.0</td>\n",
       "      <td>Neutral</td>\n",
       "      <td>0.2960</td>\n",
       "      <td>Neutral</td>\n",
       "    </tr>\n",
       "    <tr>\n",
       "      <th>4</th>\n",
       "      <td>No, but wait there, they put the Nutriscore on...</td>\n",
       "      <td>wait put Nutriscore bottle water http co eq ...</td>\n",
       "      <td>0.0</td>\n",
       "      <td>0.0</td>\n",
       "      <td>Neutral</td>\n",
       "      <td>0.0000</td>\n",
       "      <td>Neutral</td>\n",
       "    </tr>\n",
       "  </tbody>\n",
       "</table>\n",
       "</div>"
      ],
      "text/plain": [
       "                          translated_english_content  \\\n",
       "0     @Kuechentyrann Your eggs have good nutriscore.   \n",
       "1        @Teddymonster10 they have a good nutriscore   \n",
       "2  @Vrechts @IVanVanDecloot that Ecoscore and Nut...   \n",
       "3  @matteosalvinimi then, the offices had prepare...   \n",
       "4  No, but wait there, they put the Nutriscore on...   \n",
       "\n",
       "                                               Lemma  Subjectivity  Polarity  \\\n",
       "0                  Kuechentyrann egg good nutriscore           0.6       0.7   \n",
       "1                       Teddymonster good nutriscore           0.6       0.7   \n",
       "2    Vrechts IVanVanDecloot Ecoscore Nutriscore f...           0.0       0.0   \n",
       "3    matteosalvinimi office prepare dossier Pnnr ...           0.0       0.0   \n",
       "4    wait put Nutriscore bottle water http co eq ...           0.0       0.0   \n",
       "\n",
       "   Analysis  Vader Sentiment Vader Analysis  \n",
       "0  Positive           0.4404        Neutral  \n",
       "1  Positive           0.4404        Neutral  \n",
       "2   Neutral           0.0000        Neutral  \n",
       "3   Neutral           0.2960        Neutral  \n",
       "4   Neutral           0.0000        Neutral  "
      ]
     },
     "execution_count": 23,
     "metadata": {},
     "output_type": "execute_result"
    }
   ],
   "source": [
    "from vaderSentiment.vaderSentiment import SentimentIntensityAnalyzer\n",
    "analyzer = SentimentIntensityAnalyzer()\n",
    "# function to calculate vader sentiment\n",
    "def vadersentimentanalysis(review):\n",
    "    vs = analyzer.polarity_scores(review)\n",
    "    return vs['compound']\n",
    "fin_data['Vader Sentiment'] = fin_data['Lemma'].apply(vadersentimentanalysis)\n",
    "# function to analyse\n",
    "def vader_analysis(compound):\n",
    "    if compound >= 0.5:\n",
    "        return 'Positive'\n",
    "    elif compound <= -0.5 :\n",
    "        return 'Negative'\n",
    "    else:\n",
    "        return 'Neutral'\n",
    "fin_data['Vader Analysis'] = fin_data['Vader Sentiment'].apply(vader_analysis)\n",
    "fin_data.head()"
   ]
  },
  {
   "cell_type": "code",
   "execution_count": 24,
   "id": "752f654f",
   "metadata": {},
   "outputs": [
    {
     "data": {
      "text/plain": [
       "Neutral     19680\n",
       "Positive     5762\n",
       "Negative     2985\n",
       "Name: Vader Analysis, dtype: int64"
      ]
     },
     "execution_count": 24,
     "metadata": {},
     "output_type": "execute_result"
    }
   ],
   "source": [
    "vader_counts = fin_data['Vader Analysis'].value_counts()\n",
    "vader_counts"
   ]
  },
  {
   "cell_type": "markdown",
   "id": "a1776e62",
   "metadata": {},
   "source": []
  },
  {
   "cell_type": "code",
   "execution_count": 25,
   "id": "cf17c6f2",
   "metadata": {},
   "outputs": [
    {
     "data": {
      "text/plain": [
       "([<matplotlib.patches.Wedge at 0x1e0dca055e0>,\n",
       "  <matplotlib.patches.Wedge at 0x1e0dca05d60>,\n",
       "  <matplotlib.patches.Wedge at 0x1e0dc9f94c0>],\n",
       " [Text(-0.6248480494909615, 0.9052982464620933, 'Neutral'),\n",
       "  Text(0.2978983245629524, -1.058894040129883, 'Positive'),\n",
       "  Text(1.2772071833844243, -0.437312029003578, 'Negative')],\n",
       " [Text(-0.3408262088132517, 0.4937990435247781, '69.2%'),\n",
       "  Text(0.16248999521615584, -0.5775785673435724, '20.3%'),\n",
       "  Text(0.8041674858346373, -0.27534461085410467, '10.5%')])"
      ]
     },
     "execution_count": 25,
     "metadata": {},
     "output_type": "execute_result"
    },
    {
     "data": {
      "image/png": "[encoded data removed]",
      "text/plain": [
       "<Figure size 1080x504 with 2 Axes>"
      ]
     },
     "metadata": {},
     "output_type": "display_data"
    }
   ],
   "source": [
    "import matplotlib.pyplot as plt\n",
    "%matplotlib inline\n",
    "plt.figure(figsize=(15,7))\n",
    "plt.subplot(1,3,1)\n",
    "plt.title(\"TextBlob results\")\n",
    "plt.pie(tb_counts.values, labels = tb_counts.index, explode = (0, 0, 0.25), autopct='%1.1f%%', shadow=False)\n",
    "plt.subplot(1,3,2)\n",
    "plt.title(\"VADER results\")\n",
    "plt.pie(vader_counts.values, labels = vader_counts.index, explode = (0, 0, 0.25), autopct='%1.1f%%', shadow=False)\n",
    "\n",
    "  "
   ]
  },
  {
   "cell_type": "code",
   "execution_count": 26,
   "id": "283bbb76",
   "metadata": {},
   "outputs": [
    {
     "data": {
      "text/html": [
       "<div>\n",
       "<style scoped>\n",
       "    .dataframe tbody tr th:only-of-type {\n",
       "        vertical-align: middle;\n",
       "    }\n",
       "\n",
       "    .dataframe tbody tr th {\n",
       "        vertical-align: top;\n",
       "    }\n",
       "\n",
       "    .dataframe thead th {\n",
       "        text-align: right;\n",
       "    }\n",
       "</style>\n",
       "<table border=\"1\" class=\"dataframe\">\n",
       "  <thead>\n",
       "    <tr style=\"text-align: right;\">\n",
       "      <th></th>\n",
       "      <th>translated_english_content</th>\n",
       "      <th>neg</th>\n",
       "      <th>neu</th>\n",
       "      <th>pos</th>\n",
       "      <th>compound</th>\n",
       "      <th>Cleaned_Content</th>\n",
       "      <th>POS tagged</th>\n",
       "      <th>Lemma</th>\n",
       "    </tr>\n",
       "  </thead>\n",
       "  <tbody>\n",
       "    <tr>\n",
       "      <th>0</th>\n",
       "      <td>@Kuechentyrann Your eggs have good nutriscore.</td>\n",
       "      <td>0.00</td>\n",
       "      <td>0.633</td>\n",
       "      <td>0.367</td>\n",
       "      <td>0.4404</td>\n",
       "      <td>Kuechentyrann Your eggs have good nutriscore</td>\n",
       "      <td>[(Kuechentyrann, n), (eggs, n), (good, a), (nu...</td>\n",
       "      <td>Kuechentyrann egg good nutriscore</td>\n",
       "    </tr>\n",
       "    <tr>\n",
       "      <th>1</th>\n",
       "      <td>@Teddymonster10 they have a good nutriscore</td>\n",
       "      <td>0.00</td>\n",
       "      <td>0.580</td>\n",
       "      <td>0.420</td>\n",
       "      <td>0.4404</td>\n",
       "      <td>Teddymonster they have a good nutriscore</td>\n",
       "      <td>[(Teddymonster, n), (good, a), (nutriscore, n)]</td>\n",
       "      <td>Teddymonster good nutriscore</td>\n",
       "    </tr>\n",
       "    <tr>\n",
       "      <th>2</th>\n",
       "      <td>@Vrechts @IVanVanDecloot that Ecoscore and Nut...</td>\n",
       "      <td>0.00</td>\n",
       "      <td>1.000</td>\n",
       "      <td>0.000</td>\n",
       "      <td>0.0000</td>\n",
       "      <td>Vrechts IVanVanDecloot that Ecoscore and Nutr...</td>\n",
       "      <td>[(Vrechts, n), (IVanVanDecloot, n), (Ecoscore,...</td>\n",
       "      <td>Vrechts IVanVanDecloot Ecoscore Nutriscore f...</td>\n",
       "    </tr>\n",
       "    <tr>\n",
       "      <th>3</th>\n",
       "      <td>@matteosalvinimi then, the offices had prepare...</td>\n",
       "      <td>0.00</td>\n",
       "      <td>0.924</td>\n",
       "      <td>0.076</td>\n",
       "      <td>0.4497</td>\n",
       "      <td>matteosalvinimi then the offices had prepared...</td>\n",
       "      <td>[(matteosalvinimi, n), (offices, n), (prepared...</td>\n",
       "      <td>matteosalvinimi office prepare dossier Pnnr ...</td>\n",
       "    </tr>\n",
       "    <tr>\n",
       "      <th>4</th>\n",
       "      <td>No, but wait there, they put the Nutriscore on...</td>\n",
       "      <td>0.11</td>\n",
       "      <td>0.890</td>\n",
       "      <td>0.000</td>\n",
       "      <td>-0.1531</td>\n",
       "      <td>No but wait there they put the Nutriscore on b...</td>\n",
       "      <td>[(wait, v), (put, v), (Nutriscore, n), (bottle...</td>\n",
       "      <td>wait put Nutriscore bottle water http co eq ...</td>\n",
       "    </tr>\n",
       "  </tbody>\n",
       "</table>\n",
       "</div>"
      ],
      "text/plain": [
       "                          translated_english_content   neg    neu    pos  \\\n",
       "0     @Kuechentyrann Your eggs have good nutriscore.  0.00  0.633  0.367   \n",
       "1        @Teddymonster10 they have a good nutriscore  0.00  0.580  0.420   \n",
       "2  @Vrechts @IVanVanDecloot that Ecoscore and Nut...  0.00  1.000  0.000   \n",
       "3  @matteosalvinimi then, the offices had prepare...  0.00  0.924  0.076   \n",
       "4  No, but wait there, they put the Nutriscore on...  0.11  0.890  0.000   \n",
       "\n",
       "   compound                                    Cleaned_Content  \\\n",
       "0    0.4404      Kuechentyrann Your eggs have good nutriscore    \n",
       "1    0.4404           Teddymonster they have a good nutriscore   \n",
       "2    0.0000   Vrechts IVanVanDecloot that Ecoscore and Nutr...   \n",
       "3    0.4497   matteosalvinimi then the offices had prepared...   \n",
       "4   -0.1531  No but wait there they put the Nutriscore on b...   \n",
       "\n",
       "                                          POS tagged  \\\n",
       "0  [(Kuechentyrann, n), (eggs, n), (good, a), (nu...   \n",
       "1    [(Teddymonster, n), (good, a), (nutriscore, n)]   \n",
       "2  [(Vrechts, n), (IVanVanDecloot, n), (Ecoscore,...   \n",
       "3  [(matteosalvinimi, n), (offices, n), (prepared...   \n",
       "4  [(wait, v), (put, v), (Nutriscore, n), (bottle...   \n",
       "\n",
       "                                               Lemma  \n",
       "0                  Kuechentyrann egg good nutriscore  \n",
       "1                       Teddymonster good nutriscore  \n",
       "2    Vrechts IVanVanDecloot Ecoscore Nutriscore f...  \n",
       "3    matteosalvinimi office prepare dossier Pnnr ...  \n",
       "4    wait put Nutriscore bottle water http co eq ...  "
      ]
     },
     "execution_count": 26,
     "metadata": {},
     "output_type": "execute_result"
    }
   ],
   "source": [
    "vad.head()"
   ]
  },
  {
   "cell_type": "code",
   "execution_count": 27,
   "id": "b8599698",
   "metadata": {},
   "outputs": [],
   "source": [
    "df2 = df.copy()"
   ]
  },
  {
   "cell_type": "markdown",
   "id": "50df400e",
   "metadata": {},
   "source": [
    "<b>Visualization With Respect To Countries</b>"
   ]
  },
  {
   "cell_type": "code",
   "execution_count": 28,
   "id": "fa7658a2",
   "metadata": {},
   "outputs": [
    {
     "name": "stderr",
     "output_type": "stream",
     "text": [
      "100%|███████████████████████████████████████████████████████████████████████████| 32178/32178 [04:00<00:00, 133.70it/s]\n"
     ]
    }
   ],
   "source": [
    "countries = []\n",
    "for data in tqdm.tqdm(df2['content']):\n",
    "    try:\n",
    "        lang = detect(data)\n",
    "        country = pycountry.countries.get(alpha_2=lang).name\n",
    "        countries.append(country)\n",
    "        \n",
    "    except:\n",
    "        countries.append('other')\n",
    "        continue\n",
    "    "
   ]
  },
  {
   "cell_type": "code",
   "execution_count": 32,
   "id": "b73007ad",
   "metadata": {},
   "outputs": [
    {
     "data": {
      "text/html": [
       "<div>\n",
       "<style scoped>\n",
       "    .dataframe tbody tr th:only-of-type {\n",
       "        vertical-align: middle;\n",
       "    }\n",
       "\n",
       "    .dataframe tbody tr th {\n",
       "        vertical-align: top;\n",
       "    }\n",
       "\n",
       "    .dataframe thead th {\n",
       "        text-align: right;\n",
       "    }\n",
       "</style>\n",
       "<table border=\"1\" class=\"dataframe\">\n",
       "  <thead>\n",
       "    <tr style=\"text-align: right;\">\n",
       "      <th></th>\n",
       "      <th>translated_english_content</th>\n",
       "      <th>neg</th>\n",
       "      <th>neu</th>\n",
       "      <th>pos</th>\n",
       "      <th>compound</th>\n",
       "      <th>Cleaned_Content</th>\n",
       "      <th>POS tagged</th>\n",
       "      <th>Lemma</th>\n",
       "      <th>countries</th>\n",
       "    </tr>\n",
       "  </thead>\n",
       "  <tbody>\n",
       "    <tr>\n",
       "      <th>0</th>\n",
       "      <td>@Kuechentyrann Your eggs have good nutriscore.</td>\n",
       "      <td>0.00</td>\n",
       "      <td>0.633</td>\n",
       "      <td>0.367</td>\n",
       "      <td>0.4404</td>\n",
       "      <td>Kuechentyrann Your eggs have good nutriscore</td>\n",
       "      <td>[(Kuechentyrann, n), (eggs, n), (good, a), (nu...</td>\n",
       "      <td>Kuechentyrann egg good nutriscore</td>\n",
       "      <td>Germany</td>\n",
       "    </tr>\n",
       "    <tr>\n",
       "      <th>1</th>\n",
       "      <td>@Teddymonster10 they have a good nutriscore</td>\n",
       "      <td>0.00</td>\n",
       "      <td>0.580</td>\n",
       "      <td>0.420</td>\n",
       "      <td>0.4404</td>\n",
       "      <td>Teddymonster they have a good nutriscore</td>\n",
       "      <td>[(Teddymonster, n), (good, a), (nutriscore, n)]</td>\n",
       "      <td>Teddymonster good nutriscore</td>\n",
       "      <td>Germany</td>\n",
       "    </tr>\n",
       "    <tr>\n",
       "      <th>2</th>\n",
       "      <td>@Vrechts @IVanVanDecloot that Ecoscore and Nut...</td>\n",
       "      <td>0.00</td>\n",
       "      <td>1.000</td>\n",
       "      <td>0.000</td>\n",
       "      <td>0.0000</td>\n",
       "      <td>Vrechts IVanVanDecloot that Ecoscore and Nutr...</td>\n",
       "      <td>[(Vrechts, n), (IVanVanDecloot, n), (Ecoscore,...</td>\n",
       "      <td>Vrechts IVanVanDecloot Ecoscore Nutriscore f...</td>\n",
       "      <td>Netherlands</td>\n",
       "    </tr>\n",
       "    <tr>\n",
       "      <th>3</th>\n",
       "      <td>@matteosalvinimi then, the offices had prepare...</td>\n",
       "      <td>0.00</td>\n",
       "      <td>0.924</td>\n",
       "      <td>0.076</td>\n",
       "      <td>0.4497</td>\n",
       "      <td>matteosalvinimi then the offices had prepared...</td>\n",
       "      <td>[(matteosalvinimi, n), (offices, n), (prepared...</td>\n",
       "      <td>matteosalvinimi office prepare dossier Pnnr ...</td>\n",
       "      <td>Italy</td>\n",
       "    </tr>\n",
       "    <tr>\n",
       "      <th>4</th>\n",
       "      <td>No, but wait there, they put the Nutriscore on...</td>\n",
       "      <td>0.11</td>\n",
       "      <td>0.890</td>\n",
       "      <td>0.000</td>\n",
       "      <td>-0.1531</td>\n",
       "      <td>No but wait there they put the Nutriscore on b...</td>\n",
       "      <td>[(wait, v), (put, v), (Nutriscore, n), (bottle...</td>\n",
       "      <td>wait put Nutriscore bottle water http co eq ...</td>\n",
       "      <td>France</td>\n",
       "    </tr>\n",
       "  </tbody>\n",
       "</table>\n",
       "</div>"
      ],
      "text/plain": [
       "                          translated_english_content   neg    neu    pos  \\\n",
       "0     @Kuechentyrann Your eggs have good nutriscore.  0.00  0.633  0.367   \n",
       "1        @Teddymonster10 they have a good nutriscore  0.00  0.580  0.420   \n",
       "2  @Vrechts @IVanVanDecloot that Ecoscore and Nut...  0.00  1.000  0.000   \n",
       "3  @matteosalvinimi then, the offices had prepare...  0.00  0.924  0.076   \n",
       "4  No, but wait there, they put the Nutriscore on...  0.11  0.890  0.000   \n",
       "\n",
       "   compound                                    Cleaned_Content  \\\n",
       "0    0.4404      Kuechentyrann Your eggs have good nutriscore    \n",
       "1    0.4404           Teddymonster they have a good nutriscore   \n",
       "2    0.0000   Vrechts IVanVanDecloot that Ecoscore and Nutr...   \n",
       "3    0.4497   matteosalvinimi then the offices had prepared...   \n",
       "4   -0.1531  No but wait there they put the Nutriscore on b...   \n",
       "\n",
       "                                          POS tagged  \\\n",
       "0  [(Kuechentyrann, n), (eggs, n), (good, a), (nu...   \n",
       "1    [(Teddymonster, n), (good, a), (nutriscore, n)]   \n",
       "2  [(Vrechts, n), (IVanVanDecloot, n), (Ecoscore,...   \n",
       "3  [(matteosalvinimi, n), (offices, n), (prepared...   \n",
       "4  [(wait, v), (put, v), (Nutriscore, n), (bottle...   \n",
       "\n",
       "                                               Lemma    countries  \n",
       "0                  Kuechentyrann egg good nutriscore      Germany  \n",
       "1                       Teddymonster good nutriscore      Germany  \n",
       "2    Vrechts IVanVanDecloot Ecoscore Nutriscore f...  Netherlands  \n",
       "3    matteosalvinimi office prepare dossier Pnnr ...        Italy  \n",
       "4    wait put Nutriscore bottle water http co eq ...       France  "
      ]
     },
     "execution_count": 32,
     "metadata": {},
     "output_type": "execute_result"
    }
   ],
   "source": [
    "vad['countries'] = countries[:vad.shape[0]]\n",
    "    \n",
    "vad.head()"
   ]
  },
  {
   "cell_type": "code",
   "execution_count": 42,
   "id": "baf3c015",
   "metadata": {},
   "outputs": [
    {
     "data": {
      "text/plain": [
       "Spain                   8920\n",
       "France                  8283\n",
       "Italy                   3990\n",
       "other                   3023\n",
       "Germany                 2219\n",
       "Netherlands             1170\n",
       "Portugal                 291\n",
       "Canada                   188\n",
       "Romania                  156\n",
       "Poland                    77\n",
       "Finland                   19\n",
       "Afghanistan               18\n",
       "El Salvador               12\n",
       "Croatia                   11\n",
       "Sierra Leone              11\n",
       "Turkey                     7\n",
       "Ethiopia                   7\n",
       "Indonesia                  4\n",
       "Virgin Islands, U.S.       4\n",
       "Norway                     3\n",
       "Slovakia                   2\n",
       "Timor-Leste                2\n",
       "Lithuania                  2\n",
       "Latvia                     2\n",
       "Somalia                    2\n",
       "Hungary                    1\n",
       "Argentina                  1\n",
       "Russian Federation         1\n",
       "Cyprus                     1\n",
       "Name: countries, dtype: int64"
      ]
     },
     "execution_count": 42,
     "metadata": {},
     "output_type": "execute_result"
    }
   ],
   "source": [
    "vad['countries'].value_counts()"
   ]
  },
  {
   "cell_type": "code",
   "execution_count": 40,
   "id": "96bf78b6",
   "metadata": {},
   "outputs": [],
   "source": [
    "# top 15 populated countries\n",
    "country_df = vad['countries'].value_counts()[:15]"
   ]
  },
  {
   "cell_type": "code",
   "execution_count": 49,
   "id": "17c74d4c",
   "metadata": {},
   "outputs": [
    {
     "data": {
      "text/plain": [
       "dict_keys(['Spain', 'France', 'Italy', 'other', 'Germany', 'Netherlands', 'Portugal', 'Canada', 'Romania', 'Poland', 'Finland', 'Afghanistan', 'El Salvador', 'Croatia', 'Sierra Leone'])"
      ]
     },
     "execution_count": 49,
     "metadata": {},
     "output_type": "execute_result"
    }
   ],
   "source": [
    "top_countries = country_df.to_dict() \n",
    "top_countries.keys()"
   ]
  },
  {
   "cell_type": "code",
   "execution_count": 53,
   "id": "a09b6d00",
   "metadata": {},
   "outputs": [],
   "source": [
    "top_countries_list = []\n",
    "sentiment_scores = []"
   ]
  },
  {
   "cell_type": "code",
   "execution_count": 54,
   "id": "075d3afd",
   "metadata": {},
   "outputs": [],
   "source": [
    "for index, row in vad.iterrows():\n",
    "    if row['countries'] in top_countries.keys():\n",
    "        top_countries_list.append(row['countries'])\n",
    "        sentiment_scores.append(row['compound'])"
   ]
  },
  {
   "cell_type": "code",
   "execution_count": 56,
   "id": "5198d506",
   "metadata": {},
   "outputs": [],
   "source": [
    "top_countries_data = pd.DataFrame()"
   ]
  },
  {
   "cell_type": "code",
   "execution_count": 57,
   "id": "8e27ccaa",
   "metadata": {},
   "outputs": [],
   "source": [
    "top_countries_data['country'] = top_countries_list\n",
    "top_countries_data['sentiment'] = sentiment_scores"
   ]
  },
  {
   "cell_type": "code",
   "execution_count": 58,
   "id": "7f1520a2",
   "metadata": {},
   "outputs": [
    {
     "data": {
      "text/html": [
       "<div>\n",
       "<style scoped>\n",
       "    .dataframe tbody tr th:only-of-type {\n",
       "        vertical-align: middle;\n",
       "    }\n",
       "\n",
       "    .dataframe tbody tr th {\n",
       "        vertical-align: top;\n",
       "    }\n",
       "\n",
       "    .dataframe thead th {\n",
       "        text-align: right;\n",
       "    }\n",
       "</style>\n",
       "<table border=\"1\" class=\"dataframe\">\n",
       "  <thead>\n",
       "    <tr style=\"text-align: right;\">\n",
       "      <th></th>\n",
       "      <th>country</th>\n",
       "      <th>sentiment</th>\n",
       "    </tr>\n",
       "  </thead>\n",
       "  <tbody>\n",
       "    <tr>\n",
       "      <th>0</th>\n",
       "      <td>Germany</td>\n",
       "      <td>0.4404</td>\n",
       "    </tr>\n",
       "    <tr>\n",
       "      <th>1</th>\n",
       "      <td>Germany</td>\n",
       "      <td>0.4404</td>\n",
       "    </tr>\n",
       "    <tr>\n",
       "      <th>2</th>\n",
       "      <td>Netherlands</td>\n",
       "      <td>0.0000</td>\n",
       "    </tr>\n",
       "    <tr>\n",
       "      <th>3</th>\n",
       "      <td>Italy</td>\n",
       "      <td>0.4497</td>\n",
       "    </tr>\n",
       "    <tr>\n",
       "      <th>4</th>\n",
       "      <td>France</td>\n",
       "      <td>-0.1531</td>\n",
       "    </tr>\n",
       "  </tbody>\n",
       "</table>\n",
       "</div>"
      ],
      "text/plain": [
       "       country  sentiment\n",
       "0      Germany     0.4404\n",
       "1      Germany     0.4404\n",
       "2  Netherlands     0.0000\n",
       "3        Italy     0.4497\n",
       "4       France    -0.1531"
      ]
     },
     "execution_count": 58,
     "metadata": {},
     "output_type": "execute_result"
    }
   ],
   "source": [
    "top_countries_data.head()"
   ]
  },
  {
   "cell_type": "code",
   "execution_count": 62,
   "id": "dfd9e317",
   "metadata": {},
   "outputs": [
    {
     "data": {
      "text/plain": [
       "<AxesSubplot:xlabel='country', ylabel='count'>"
      ]
     },
     "execution_count": 62,
     "metadata": {},
     "output_type": "execute_result"
    },
    {
     "data": {
      "image/png": "[encoded data removed]",
      "text/plain": [
       "<Figure size 1224x288 with 1 Axes>"
      ]
     },
     "metadata": {},
     "output_type": "display_data"
    }
   ],
   "source": [
    "dim = (17, 4)\n",
    "fig, ax = plt.subplots(figsize=dim)\n",
    "sns.countplot(data=top_countries_data, x='country')"
   ]
  },
  {
   "cell_type": "code",
   "execution_count": 66,
   "id": "12772fa6",
   "metadata": {},
   "outputs": [
    {
     "data": {
      "text/plain": [
       "<AxesSubplot:xlabel='sentiment', ylabel='Count'>"
      ]
     },
     "execution_count": 66,
     "metadata": {},
     "output_type": "execute_result"
    },
    {
     "data": {
      "image/png": "[encoded data removed]",
      "text/plain": [
       "<Figure size 432x288 with 1 Axes>"
      ]
     },
     "metadata": {},
     "output_type": "display_data"
    }
   ],
   "source": [
    "sns.histplot(top_countries_data[\"sentiment\"],bins=10)"
   ]
  },
  {
   "cell_type": "markdown",
   "id": "de27615c",
   "metadata": {},
   "source": [
    "<b>Among the top countries there are positive sentiments mostly for nutriscore/nutri-score</b>"
   ]
  },
  {
   "cell_type": "code",
   "execution_count": 70,
   "id": "af8d754e",
   "metadata": {},
   "outputs": [
    {
     "data": {
      "text/plain": [
       "<AxesSubplot:xlabel='country', ylabel='sentiment'>"
      ]
     },
     "execution_count": 70,
     "metadata": {},
     "output_type": "execute_result"
    },
    {
     "data": {
      "image/png": "[encoded data removed]",
      "text/plain": [
       "<Figure size 1224x288 with 1 Axes>"
      ]
     },
     "metadata": {},
     "output_type": "display_data"
    }
   ],
   "source": [
    "dim = (17, 4)\n",
    "fig, ax = plt.subplots(figsize=dim)\n",
    "sns.barplot(x='country', y='sentiment', data=top_countries_data)"
   ]
  },
  {
   "cell_type": "code",
   "execution_count": null,
   "id": "e4a09edc",
   "metadata": {},
   "outputs": [],
   "source": []
  }
 ],
 "metadata": {
  "kernelspec": {
   "display_name": "Python 3 (ipykernel)",
   "language": "python",
   "name": "python3"
  },
  "language_info": {
   "codemirror_mode": {
    "name": "ipython",
    "version": 3
   },
   "file_extension": ".py",
   "mimetype": "text/x-python",
   "name": "python",
   "nbconvert_exporter": "python",
   "pygments_lexer": "ipython3",
   "version": "3.9.7"
  }
 },
 "nbformat": 4,
 "nbformat_minor": 5
}
